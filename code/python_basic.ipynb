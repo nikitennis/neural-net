{
 "cells": [
  {
   "cell_type": "code",
   "execution_count": 1,
   "metadata": {},
   "outputs": [
    {
     "name": "stdout",
     "output_type": "stream",
     "text": [
      "<class 'int'>\n",
      "3\n",
      "4\n",
      "2\n",
      "6\n",
      "9\n",
      "4\n",
      "8\n",
      "<class 'float'>\n",
      "2.5 3.5 5.0 6.25\n"
     ]
    }
   ],
   "source": [
    "# Basic data type: numbers\n",
    "\n",
    "x = 3\n",
    "print(type(x)) # print \"<class 'int'>\"\n",
    "print(x)       # print \"3\"\n",
    "print(x + 1)   # addition; print \"4\"\n",
    "print(x - 1)   # subtraction; print \"2\"\n",
    "print(x * 2)   # multiplication; print \"6\"\n",
    "print(x ** 2)  # exponentiation; print \"9\"\n",
    "x += 1\n",
    "print(x)       # print \"4\"\n",
    "x *= 2\n",
    "print(x)       # print \"8\"\n",
    "y = 2.5\n",
    "print(type(y)) # print \"<class 'float'>\"\n",
    "print(y, y + 1, y * 2, y ** 2) # print \"2.5 3.5 5.0 6.25\""
   ]
  },
  {
   "cell_type": "code",
   "execution_count": 2,
   "metadata": {},
   "outputs": [
    {
     "name": "stdout",
     "output_type": "stream",
     "text": [
      "<class 'bool'>\n",
      "False\n",
      "True\n",
      "False\n",
      "True\n"
     ]
    }
   ],
   "source": [
    "# Basic data type: booleans\n",
    "\n",
    "t = True\n",
    "f = False\n",
    "print(type(t)) # print \"<class 'bool'>\"\n",
    "print(t and f) # logical AND; print \"False\"\n",
    "print(t or f)  # logical OR; print \"True\"\n",
    "print(not t)   # logical NOT; print \"False\"\n",
    "print(t != f)  # logical XOR; print \"True\""
   ]
  },
  {
   "cell_type": "code",
   "execution_count": 3,
   "metadata": {},
   "outputs": [
    {
     "name": "stdout",
     "output_type": "stream",
     "text": [
      "hello\n",
      "5\n",
      "hello world\n",
      "hello world 12\n",
      "Hello\n",
      "HELLO\n",
      "  hello\n",
      " hello \n",
      "he(ell)(ell)o\n",
      "world\n"
     ]
    }
   ],
   "source": [
    "# Basic data type: strings\n",
    "\n",
    "a = 'hello'    # single quotes string literals\n",
    "b = \"world\"    # double quotes string literals\n",
    "print(a)       # print \"hello\"\n",
    "print(len(a))  # string length; print \"5\"\n",
    "ab = a + ' ' + b  # concatenation\n",
    "print(ab)      # print \"hello world\"\n",
    "ab12 = '%s %s %d' % (a, b, 12)  # format\n",
    "print(ab12)    # print \"hello world 12\"\n",
    "print(a.capitalize()) # capitalize; print \"Hello\"\n",
    "print(a.upper())      # uppercase; print \"HELLO\"\n",
    "print(a.rjust(7))     # right-justify with space padding; print \"  hello\"\n",
    "print(a.center(7))    # center with space padding; print \" hello \"\n",
    "print(a.replace('l', '(ell)'))  # replace all instances of one substring with another; print \"he(ell)(ell)o\"\n",
    "print('  world '.strip())       # strip leading and trailing whitespace; print \"world\""
   ]
  },
  {
   "cell_type": "code",
   "execution_count": 4,
   "metadata": {},
   "outputs": [
    {
     "name": "stdout",
     "output_type": "stream",
     "text": [
      "True\n",
      "5\n",
      "False\n",
      "4303776176\n",
      "4303776336\n",
      "6\n",
      "4303776208\n"
     ]
    }
   ],
   "source": [
    "# Immutables\n",
    "\n",
    "x = 5          # primitives/immutables (cannot be modified in-place)\n",
    "y = x          # deep copy/pass by value\n",
    "print(y is x)  # test if x and y refer to same object; print \"True\"\n",
    "y = 10         # y points to new object\n",
    "print(x)       # x is not affected; print \"5\"\n",
    "print(y is x)  # x and y refer to different objects; print \"False\"\n",
    "print(id(x))   # check address of int object (on heap) that x points to, but no direct way to check address of x as reference (on stack)\n",
    "print(id(y))   # x and y store different addresses\n",
    "x += 1         # augmented assignment (+=, -=, *=, /=, etc.); same as x = x + 1\n",
    "print(x)       # print \"6\"\n",
    "print(id(x))   # x points to new object"
   ]
  },
  {
   "cell_type": "code",
   "execution_count": 5,
   "metadata": {},
   "outputs": [
    {
     "name": "stdout",
     "output_type": "stream",
     "text": [
      "2\n",
      "2\n",
      "[3, 1, 'foo']\n",
      "[3, 1, 'foo', 'bar']\n",
      "bar\n"
     ]
    }
   ],
   "source": [
    "# Container: lists\n",
    "\n",
    "xs = [3, 1, 2]    # create a list\n",
    "print(xs[2])      # print \"2\"\n",
    "print(xs[-1])     # negative index counts from list end; print \"2\"\n",
    "xs[2] = 'foo'     # can contain different types\n",
    "print(xs)         # print \"[3, 1, 'foo']\"\n",
    "xs.append('bar')  # add new element to list end\n",
    "print(xs)         # print \"[3, 1, 'foo', 'bar']\"\n",
    "x = xs.pop()      # remove and return last element\n",
    "print(x)          # print \"bar\""
   ]
  },
  {
   "cell_type": "code",
   "execution_count": 6,
   "metadata": {},
   "outputs": [
    {
     "name": "stdout",
     "output_type": "stream",
     "text": [
      "[0, 1, 2, 3, 4]\n",
      "[2, 3]\n",
      "[2, 3, 4]\n",
      "[0, 1]\n",
      "[0, 1, 2, 3, 4]\n",
      "[0, 1, 2, 3]\n",
      "[0, 1, 8, 9, 4]\n"
     ]
    }
   ],
   "source": [
    "# Container: list slicing\n",
    "\n",
    "nums = list(range(5))   # create list of integers\n",
    "print(nums)             # print \"[0, 1, 2, 3, 4]\"\n",
    "print(nums[2:4])        # slice from index 2 to 4 (exclusive); print \"[2, 3]\"\n",
    "print(nums[2:])         # slice from index 2 to end; print \"[2, 3, 4]\"\n",
    "print(nums[:2])         # slice from start to index 2 (exclusive); print \"[0, 1]\"\n",
    "print(nums[:])          # slice of whole list; print \"[0, 1, 2, 3, 4]\"\n",
    "print(nums[:-1])        # slice indices can be negative; print \"[0, 1, 2, 3]\"\n",
    "nums[2:4] = [8, 9]      # assign new sublist to a slice\n",
    "print(nums)             # print \"[0, 1, 8, 9, 4]\""
   ]
  },
  {
   "cell_type": "code",
   "execution_count": 7,
   "metadata": {},
   "outputs": [
    {
     "name": "stdout",
     "output_type": "stream",
     "text": [
      "cat\n",
      "dog\n",
      "monkey\n",
      "[0, 4, 16]\n"
     ]
    }
   ],
   "source": [
    "# Container: list comprehension\n",
    "\n",
    "animals = ['cat', 'dog', 'monkey']\n",
    "for animal in animals:\n",
    "    print(animal)  # print \"cat\", \"dog\", \"monkey\", each on its own line\n",
    "\n",
    "nums = [0, 1, 2, 3, 4]\n",
    "even_squares = [x ** 2 for x in nums if x % 2 == 0]  # list comprehension\n",
    "print(even_squares)  # print \"[0, 4, 16]\""
   ]
  },
  {
   "cell_type": "code",
   "execution_count": 8,
   "metadata": {},
   "outputs": [
    {
     "name": "stdout",
     "output_type": "stream",
     "text": [
      "cute\n",
      "True\n",
      "N/A\n",
      "wet\n",
      "N/A\n"
     ]
    }
   ],
   "source": [
    "# Container: dictionaries\n",
    "\n",
    "d = {'cat': 'cute', 'dog': 'furry'}  # create new dictionary (key-value pairs)\n",
    "print(d['cat'])       # get entry; print \"cute\"\n",
    "print('cat' in d)     # check if dictionary has a given key; print \"True\"\n",
    "d['fish'] = 'wet'     # set entry\n",
    "# print(d['monkey'])    # KeyError: 'monkey' not a key of d\n",
    "print(d.get('monkey', 'N/A'))  # get element with default; print \"N/A\"\n",
    "print(d.get('fish', 'N/A'))    # print \"wet\"\n",
    "del d['fish']         # remove element\n",
    "print(d.get('fish', 'N/A'))    # \"fish\" is no longer a key; print \"N/A\""
   ]
  },
  {
   "cell_type": "code",
   "execution_count": 9,
   "metadata": {},
   "outputs": [
    {
     "name": "stdout",
     "output_type": "stream",
     "text": [
      "A person has 2 legs\n",
      "A cat has 4 legs\n",
      "A spider has 8 legs\n",
      "{0: 0, 2: 4, 4: 16}\n"
     ]
    }
   ],
   "source": [
    "# Container: dictionary comprehension\n",
    "\n",
    "d = {'person': 2, 'cat': 4, 'spider': 8}\n",
    "for animal in d:\n",
    "    legs = d[animal]\n",
    "    print('A %s has %d legs' % (animal, legs))\n",
    "# print \"A person has 2 legs\", \"A cat has 4 legs\", \"A spider has 8 legs\"\n",
    "\n",
    "nums = [0, 1, 2, 3, 4]\n",
    "even_num_to_square = {x: x ** 2 for x in nums if x % 2 == 0}\n",
    "print(even_num_to_square)  # print \"{0: 0, 2: 4, 4: 16}\""
   ]
  },
  {
   "cell_type": "code",
   "execution_count": 10,
   "metadata": {},
   "outputs": [
    {
     "name": "stdout",
     "output_type": "stream",
     "text": [
      "True\n",
      "False\n",
      "True\n",
      "3\n",
      "3\n",
      "2\n"
     ]
    }
   ],
   "source": [
    "# Container: sets\n",
    "\n",
    "animals = {'cat', 'dog'}  # create set (unordered collection of distinct elements)\n",
    "print('cat' in animals)   # check if element is in a set; print \"True\"\n",
    "print('fish' in animals)  # print \"False\"\n",
    "animals.add('fish')       # add element\n",
    "print('fish' in animals)  # print \"True\"\n",
    "print(len(animals))       # number of elements; print \"3\"\n",
    "animals.add('cat')        # adding existing element does nothing\n",
    "print(len(animals))       # print \"3\"\n",
    "animals.remove('cat')     # remove element\n",
    "print(len(animals))       # print \"2\""
   ]
  },
  {
   "cell_type": "code",
   "execution_count": 11,
   "metadata": {},
   "outputs": [
    {
     "name": "stdout",
     "output_type": "stream",
     "text": [
      "#1: fish\n",
      "#2: cat\n",
      "#3: dog\n",
      "{0, 1, 2, 3, 4, 5}\n"
     ]
    }
   ],
   "source": [
    "# Container: set comprehension\n",
    "\n",
    "animals = {'cat', 'dog', 'fish'}\n",
    "for idx, animal in enumerate(animals):\n",
    "    print('#%d: %s' % (idx + 1, animal))\n",
    "# print \"#1: fish\", \"#2: dog\", \"#3: cat\"\n",
    "\n",
    "from math import sqrt\n",
    "nums = {int(sqrt(x)) for x in range(30)}\n",
    "print(nums)  # print \"{0, 1, 2, 3, 4, 5}\""
   ]
  },
  {
   "cell_type": "code",
   "execution_count": 12,
   "metadata": {},
   "outputs": [
    {
     "name": "stdout",
     "output_type": "stream",
     "text": [
      "<class 'tuple'>\n",
      "5\n",
      "1\n"
     ]
    }
   ],
   "source": [
    "# Container: tuples\n",
    "\n",
    "t = (5, 6)        # create tuple (immutable ordered list)\n",
    "print(type(t))    # print \"<class 'tuple'>\"\n",
    "d = {(x, x + 1): x for x in range(10)}  # create dictionary with tuple keys\n",
    "print(d[t])       # print \"5\"\n",
    "print(d[(1, 2)])  # print \"1\""
   ]
  },
  {
   "cell_type": "code",
   "execution_count": 13,
   "metadata": {},
   "outputs": [
    {
     "name": "stdout",
     "output_type": "stream",
     "text": [
      "True\n",
      "10\n",
      "True\n",
      "4350963328\n",
      "4350963328\n",
      "[10, 2, 3, 4, 5, 6]\n",
      "4350963328\n",
      "4350963648\n"
     ]
    }
   ],
   "source": [
    "# Mutables\n",
    "\n",
    "num1 = [1, 2, 3, 4, 5]  # non-primitives/mutables (can be modified in-place)\n",
    "num2 = num1      # shallow copy/pass by reference (indeed still pass by value of 'reference')\n",
    "print(num2 is num1)     # num1 and num2 refer to same object; print \"True\"\n",
    "num2[0] = 10            # also affect num1\n",
    "print(num1[0])          # print \"10\"\n",
    "print(num2 is num1)     # print \"True\"\n",
    "print(id(num1))\n",
    "print(id(num2))  # num1 and num2 are different references (holding same address on stack, stack overflow?) pointing to same object on heap (buffer overflow?)\n",
    "num1 += [6]      # in-place augmented assignment\n",
    "print(num1)      # print \"[10, 2, 3, 4, 5, 6]\"\n",
    "print(id(num1))  # num1 points to same object\n",
    "num1 = num1 + [7]       # create new object\n",
    "print(id(num1))  # num1 points to new object"
   ]
  },
  {
   "cell_type": "code",
   "execution_count": 14,
   "metadata": {},
   "outputs": [
    {
     "name": "stdout",
     "output_type": "stream",
     "text": [
      "Hello, Bob\n",
      "HELLO, FRED!\n"
     ]
    }
   ],
   "source": [
    "# Function\n",
    "\n",
    "def hello(name, loud=False):\n",
    "    if loud:\n",
    "        print('HELLO, %s!' % name.upper())\n",
    "    else:\n",
    "        print('Hello, %s' % name)\n",
    "\n",
    "hello('Bob')              # print \"Hello, Bob\"\n",
    "hello('Fred', loud=True)  # print \"HELLO, FRED!\""
   ]
  },
  {
   "cell_type": "code",
   "execution_count": 15,
   "metadata": {},
   "outputs": [],
   "source": [
    "# Class: encapsulation\n",
    "\n",
    "class Vehicle:  # superclass; encapsulation\n",
    "    def __init__(self, make, model, year):\n",
    "        self.make = make\n",
    "        self.model = model\n",
    "        self.year = year\n",
    "\n",
    "    def display_info(self):\n",
    "        print(f\"Vehicle Info: {self.year} {self.make} {self.model}\")\n",
    "\n",
    "    def start_engine(self):\n",
    "        print(\"Engine started\")"
   ]
  },
  {
   "cell_type": "code",
   "execution_count": 16,
   "metadata": {},
   "outputs": [
    {
     "name": "stdout",
     "output_type": "stream",
     "text": [
      "Vehicle Info: 2020 Toyota Camry\n",
      "Number of doors: 4\n",
      "Engine started\n",
      "Car honks: Beep beep!\n"
     ]
    }
   ],
   "source": [
    "# Class: inheritance & polymorphism\n",
    "\n",
    "class Car(Vehicle):  # subclass; inheritance\n",
    "    def __init__(self, make, model, year, doors):\n",
    "        super().__init__(make, model, year)\n",
    "        self.doors = doors\n",
    "\n",
    "    def display_info(self):  # method overriding; polymorphism\n",
    "        super().display_info()\n",
    "        print(f\"Number of doors: {self.doors}\")\n",
    "\n",
    "    def honk(self):\n",
    "        print(\"Car honks: Beep beep!\")\n",
    "\n",
    "car = Car(\"Toyota\", \"Camry\", 2020, 4)\n",
    "car.display_info() # print \"Vehicle Info: 2020 Toyota Camry\", \"Number of doors: 4\"\n",
    "car.start_engine() # print \"Engine started\"\n",
    "car.honk()         # print \"Car honks: Beep beep!\""
   ]
  },
  {
   "cell_type": "code",
   "execution_count": 17,
   "metadata": {},
   "outputs": [
    {
     "name": "stdout",
     "output_type": "stream",
     "text": [
      "<class 'numpy.ndarray'>\n",
      "(3,)\n",
      "1 2 3\n",
      "[5 2 3]\n",
      "(2, 3)\n",
      "1 2 4\n",
      "(1, 3)\n",
      "(3, 1)\n"
     ]
    }
   ],
   "source": [
    "# NumPy: arrays\n",
    "\n",
    "import numpy as np\n",
    "\n",
    "a = np.array([1, 2, 3], dtype=np.int64)  # create 1-D array (neither row nor column vector)\n",
    "print(type(a))            # print \"<class 'numpy.ndarray'>\"\n",
    "print(a.shape)            # print \"(3,)\"\n",
    "print(a[0], a[1], a[2])   # print \"1 2 3\"\n",
    "a[0] = 5                  # in-place modification\n",
    "print(a)                  # print \"[5, 2, 3]\"\n",
    "\n",
    "b = np.array([[1,2,3],[4,5,6]])   # create 2-D array (including row or column vector)\n",
    "print(b.shape)                    # print \"(2, 3)\"\n",
    "print(b[0, 0], b[0, 1], b[1, 0])  # print \"1 2 4\"\n",
    "c = np.array([[1, 2, 3]])         # row vector\n",
    "print(c.shape)                    # print \"(1, 3)\"\n",
    "d = np.array([[1], [2], [3]])     # column vector\n",
    "print(d.shape)                    # print \"(3, 1)\""
   ]
  },
  {
   "cell_type": "code",
   "execution_count": 18,
   "metadata": {},
   "outputs": [
    {
     "name": "stdout",
     "output_type": "stream",
     "text": [
      "[[0. 0.]\n",
      " [0. 0.]]\n",
      "[[1. 1.]]\n",
      "[[7 7]\n",
      " [7 7]]\n",
      "[[1. 0.]\n",
      " [0. 1.]]\n",
      "[[0.30148042 0.8918    ]\n",
      " [0.68878949 0.24061117]]\n",
      "float64\n"
     ]
    }
   ],
   "source": [
    "# NumPy: arrays (cont'd)\n",
    "\n",
    "a = np.zeros((2,2))   # array of all zeros\n",
    "print(a)              # print \"[[ 0.  0.]\n",
    "                        #         [ 0.  0.]]\"\n",
    "b = np.ones((1,2))    # array of all ones\n",
    "print(b)              # print \"[[ 1.  1.]]\"\n",
    "\n",
    "c = np.full((2,2), 7) # constant array\n",
    "print(c)              # print \"[[ 7.  7.]\n",
    "                        #         [ 7.  7.]]\"\n",
    "d = np.eye(2)         # identity matrix\n",
    "print(d)              # print \"[[ 1.  0.]\n",
    "                        #         [ 0.  1.]]\"\n",
    "e = np.random.random((2,2))  # random array\n",
    "print(e)        # \"[[ 0.91940167  0.08143941]\n",
    "                #   [ 0.68744134  0.87236687]]\"\n",
    "print(e.dtype)        # print \"float64\""
   ]
  },
  {
   "cell_type": "code",
   "execution_count": 19,
   "metadata": {},
   "outputs": [
    {
     "name": "stdout",
     "output_type": "stream",
     "text": [
      "[[2 3]\n",
      " [6 7]]\n",
      "2\n",
      "77\n",
      "[5 6 7 8] (4,)\n",
      "[[5 6 7 8]] (1, 4)\n",
      "[77  6 10] (3,)\n",
      "[[77]\n",
      " [ 6]\n",
      " [10]] (3, 1)\n"
     ]
    }
   ],
   "source": [
    "# NumPy: array indexing\n",
    "\n",
    "a = np.array([[1,2,3,4], [5,6,7,8], [9,10,11,12]])\n",
    "b = a[:2, 1:3]   # slice (:) to extract subarray\n",
    "print(b)         # print \"[[2 3]\n",
    "                    #         [6 7]]\"\n",
    "print(a[0, 1])   # print \"2\"\n",
    "b[0, 0] = 77     # b[0, 0], a[0, 1] point to same data, so changing one will change the other\n",
    "print(a[0, 1])   # print \"77\"\n",
    "\n",
    "r1 = a[1, :]     # integer indexing, 1-D array\n",
    "r2 = a[1:2, :]   # slice indexing, 2-D array\n",
    "print(r1, r1.shape)  # print \"[5 6 7 8] (4,)\"\n",
    "print(r2, r2.shape)  # print \"[[5 6 7 8]] (1, 4)\"\n",
    "c1 = a[:, 1]\n",
    "c2 = a[:, 1:2]\n",
    "print(c1, c1.shape)  # print \"[ 2  6 10] (3,)\"\n",
    "print(c2, c2.shape)  # print \"[[ 2]\n",
    "                        #         [ 6]\n",
    "                        #         [10]] (3, 1)\""
   ]
  },
  {
   "cell_type": "code",
   "execution_count": 20,
   "metadata": {},
   "outputs": [
    {
     "name": "stdout",
     "output_type": "stream",
     "text": [
      "[2 2]\n",
      "[2 2]\n",
      "[1 4 5]\n",
      "[[11  2]\n",
      " [ 3 14]\n",
      " [15  6]]\n",
      "[[ True False]\n",
      " [False  True]\n",
      " [ True False]]\n",
      "[11 14 15]\n",
      "[11 14 15]\n"
     ]
    }
   ],
   "source": [
    "# NumPy: array indexing (cont'd)\n",
    "\n",
    "a = np.array([[1,2], [3, 4], [5, 6]])\n",
    "print(a[[0, 0], [1, 1]])  # returned array has shape (3,); print \"[2 2]\"\n",
    "print(np.array([a[0, 1], a[0, 1]]))  # equivalent\n",
    "b = np.array([0, 1, 0])   # index array\n",
    "print(a[np.arange(3), b]) # select one element from each row; print \"[ 1  4  5]\"\n",
    "a[np.arange(3), b] += 10  # mutate one element from each row\n",
    "print(a)            # print \"array([[11,  2],\n",
    "                    #               [ 3,  14],\n",
    "                    #               [15,  6]])\"\n",
    "\n",
    "bool_idx = (a > 10) # find elements bigger than 10\n",
    "print(bool_idx)     # print \"[[ True False]\n",
    "                    #         [False  True]\n",
    "                    #         [ True False]]\"\n",
    "print(a[bool_idx])  # print \"[11 14 15]\"\n",
    "print(a[a > 10])    # equivalent"
   ]
  },
  {
   "cell_type": "code",
   "execution_count": 21,
   "metadata": {},
   "outputs": [
    {
     "name": "stdout",
     "output_type": "stream",
     "text": [
      "[[ 6.  8.]\n",
      " [10. 12.]]\n",
      "[[ 6.  8.]\n",
      " [10. 12.]]\n",
      "[[-4. -4.]\n",
      " [-4. -4.]]\n",
      "[[-4. -4.]\n",
      " [-4. -4.]]\n",
      "[[ 5. 12.]\n",
      " [21. 32.]]\n",
      "[[ 5. 12.]\n",
      " [21. 32.]]\n",
      "[[0.2        0.33333333]\n",
      " [0.42857143 0.5       ]]\n",
      "[[0.2        0.33333333]\n",
      " [0.42857143 0.5       ]]\n",
      "[[1.         1.41421356]\n",
      " [1.73205081 2.        ]]\n"
     ]
    }
   ],
   "source": [
    "# NumPy: array math\n",
    "\n",
    "x = np.array([[1,2],[3,4]], dtype=np.float64)\n",
    "y = np.array([[5,6],[7,8]], dtype=np.float64)\n",
    "\n",
    "print(x + y)          # elementwise sum\n",
    "print(np.add(x, y))   # print \"[[ 6.0  8.0]\n",
    "                        #         [10.0 12.0]]\"\n",
    "print(x - y)          # elementwise difference\n",
    "print(np.subtract(x, y))  # print \"[[-4. -4.]\n",
    "                            #         [-4. -4.]]\"\n",
    "print(x * y)          # elementwise product\n",
    "print(np.multiply(x, y))  # print \"[[ 5. 12.]\n",
    "                            #         [21. 32.]]\"\n",
    "print(x / y)          # elementwise division\n",
    "print(np.divide(x, y))# print \"[[0.2 0.33333333]\n",
    "                        #         [0.42857143 0.5]]\"\n",
    "print(np.sqrt(x))     # elementwise square root\n",
    "                        # print \"[[1. 1.41421356]\n",
    "                        #         [1.73205081 2.]]\""
   ]
  },
  {
   "cell_type": "code",
   "execution_count": 22,
   "metadata": {},
   "outputs": [
    {
     "name": "stdout",
     "output_type": "stream",
     "text": [
      "219\n",
      "219\n",
      "219\n",
      "[29 67]\n",
      "[29 67]\n",
      "[29 67]\n",
      "[39 58]\n",
      "[39 58]\n",
      "[39 58]\n",
      "[[19 22]\n",
      " [43 50]]\n",
      "[[19 22]\n",
      " [43 50]]\n",
      "[[19 22]\n",
      " [43 50]]\n"
     ]
    }
   ],
   "source": [
    "# NumPy: array math (cont'd)\n",
    "\n",
    "x = np.array([[1,2],[3,4]]) # 2-D arrays\n",
    "y = np.array([[5,6],[7,8]])\n",
    "v = np.array([9,10])        # 1-D arrays\n",
    "w = np.array([11, 12])\n",
    "\n",
    "print(v.dot(w))      # inner product\n",
    "print(np.dot(v, w))  # print \"219\"\n",
    "print(v @ w)         # equivalent; np.matmul(v, w)\n",
    "\n",
    "print(x.dot(v))      # matrix-vector product\n",
    "print(np.dot(x, v))  # print \"[29 67]\"\n",
    "print(x @ v)         # equivalent; np.matmul(x, v)\n",
    "print(v.dot(x))      # vector-matrix product\n",
    "print(np.dot(v, x))  # print \"[39 58]\"\n",
    "print(v @ x)         # equivalent; np.matmul(v, x)\n",
    "\n",
    "print(x.dot(y))      # matrix-matrix product\n",
    "print(np.dot(x, y))  # print \"[[19 22]\n",
    "                        #         [43 50]]\"\n",
    "print(x @ y)         # equivalent; np.matmul(x, y)"
   ]
  },
  {
   "cell_type": "code",
   "execution_count": 23,
   "metadata": {},
   "outputs": [
    {
     "name": "stdout",
     "output_type": "stream",
     "text": [
      "10\n",
      "[4 6]\n",
      "[3 7]\n",
      "[[1 3]\n",
      " [2 4]]\n",
      "[1 2 3]\n"
     ]
    }
   ],
   "source": [
    "# NumPy: array math (cont'd)\n",
    "\n",
    "x = np.array([[1,2],[3,4]])\n",
    "\n",
    "print(np.sum(x))          # sum of all elements; print \"10\"\n",
    "print(np.sum(x, axis=0))  # sum of each column; print \"[4 6]\"\n",
    "print(np.sum(x, axis=1))  # sum of each row; print \"[3 7]\"\n",
    "\n",
    "print(x.T)                # print \"[[1 3]\n",
    "                            #         [2 4]]\"\n",
    "v = np.array([1,2,3])     # transpose of 1-D array does nothing\n",
    "print(v.T)                # print \"[1 2 3]\""
   ]
  },
  {
   "cell_type": "code",
   "execution_count": 24,
   "metadata": {},
   "outputs": [
    {
     "name": "stdout",
     "output_type": "stream",
     "text": [
      "[[ 4  5]\n",
      " [ 8 10]\n",
      " [12 15]]\n",
      "[[2 4 6]\n",
      " [5 7 9]]\n",
      "[[ 5  6  7]\n",
      " [ 9 10 11]]\n",
      "[[ 5  6  7]\n",
      " [ 9 10 11]]\n",
      "[[ 2  4  6]\n",
      " [ 8 10 12]]\n"
     ]
    }
   ],
   "source": [
    "# NumPy: array broadcasting\n",
    "\n",
    "# Outer product of vectors\n",
    "v = np.array([1,2,3])  # v has shape (3,)\n",
    "w = np.array([4,5])    # w has shape (2,)\n",
    "print(np.reshape(v, (3, 1)) * w)  # \"[[ 4  5]\n",
    "                                    #   [ 8 10]\n",
    "                                    #   [12 15]]\"\n",
    "# Add vector to each row of a matrix\n",
    "x = np.array([[1,2,3], [4,5,6]])\n",
    "print(x + v)           # \"[[2 4 6]\n",
    "                        #   [5 7 9]]\"\n",
    "# Add vector to each column of a matrix\n",
    "print((x.T + w).T)\n",
    "print(x + np.reshape(w, (2, 1)))  # \"[[ 5  6  7]\n",
    "                                    #   [ 9 10 11]]\"\n",
    "# Multiply matrix by a constant\n",
    "print(x * 2)           # \"[[ 2  4  6]\n",
    "                        #   [ 8 10 12]]\""
   ]
  },
  {
   "cell_type": "code",
   "execution_count": 2,
   "metadata": {},
   "outputs": [
    {
     "name": "stdout",
     "output_type": "stream",
     "text": [
      "tensor([1, 2, 3])\n",
      "tensor(1)\n",
      "1\n",
      "tensor([[1, 2],\n",
      "        [3, 4]])\n",
      "tensor([1, 2])\n",
      "tensor([[1, 2, 3, 4]])\n",
      "tensor([ 6,  8, 10])\n"
     ]
    }
   ],
   "source": [
    "# PyTorch: tensors\n",
    "\n",
    "import torch\n",
    "\n",
    "V = torch.tensor([1, 2, 3])         # create 1-D tensor\n",
    "print(V)              # print \"tensor([1, 2, 3])\"\n",
    "print(V[0])           # print \"tensor(1)\"\n",
    "print(V[0].item())    # print \"1\"\n",
    "\n",
    "M = torch.tensor([[1, 2], [3, 4]])  # create 2-D tensor\n",
    "print(M)              # print \"tensor([[1, 2],\n",
    "                        #                [3, 4]])\"\n",
    "print(M[0, :])        # print \"tensor([1, 2])\"\n",
    "print(M.view(1, 4))   # reshape; print \"tensor([[1, 2, 3, 4]])\"\n",
    "\n",
    "W = torch.tensor([5, 6, 7])\n",
    "print(V + W)          # print \"tensor([6, 8, 10])\""
   ]
  },
  {
   "cell_type": "code",
   "execution_count": 25,
   "metadata": {},
   "outputs": [
    {
     "name": "stdout",
     "output_type": "stream",
     "text": [
      "[ 2. -2.  9.]\n",
      "[-1.11051051]\n",
      "2\n"
     ]
    }
   ],
   "source": [
    "# SciPy\n",
    "\n",
    "from scipy import linalg, optimize, stats\n",
    "    \n",
    "# Solve linear system of equations\n",
    "A = np.array([[3, 2, 0], [1, -1, 0], [0, 5, 1]])\n",
    "b = np.array([2, 4, -1])\n",
    "x = linalg.solve(A, b)\n",
    "print(x)          # print \"[ 2. -2.  9.]\"\n",
    "\n",
    "# Optimization\n",
    "def f(x):\n",
    "    return x**2 + 5 * np.sin(x)\n",
    "\n",
    "result = optimize.minimize(f, x0=0)\n",
    "print(result.x)   # print \"[-1.11051081]\"\n",
    "\n",
    "# Statistics\n",
    "data = np.array([1, 2, 2, 3, 4, 5, 6, 7, 8, 9])\n",
    "mode = stats.mode(data)\n",
    "print(mode.mode)  # print \"[2]\""
   ]
  },
  {
   "cell_type": "code",
   "execution_count": 1,
   "metadata": {},
   "outputs": [
    {
     "ename": "NameError",
     "evalue": "name 'np' is not defined",
     "output_type": "error",
     "traceback": [
      "\u001b[0;31m---------------------------------------------------------------------------\u001b[0m",
      "\u001b[0;31mNameError\u001b[0m                                 Traceback (most recent call last)",
      "Cell \u001b[0;32mIn[1], line 5\u001b[0m\n\u001b[1;32m      1\u001b[0m \u001b[38;5;66;03m# Matplotlib\u001b[39;00m\n\u001b[1;32m      3\u001b[0m \u001b[38;5;28;01mimport\u001b[39;00m \u001b[38;5;21;01mmatplotlib\u001b[39;00m\u001b[38;5;21;01m.\u001b[39;00m\u001b[38;5;21;01mpyplot\u001b[39;00m \u001b[38;5;28;01mas\u001b[39;00m \u001b[38;5;21;01mplt\u001b[39;00m\n\u001b[0;32m----> 5\u001b[0m x \u001b[38;5;241m=\u001b[39m \u001b[43mnp\u001b[49m\u001b[38;5;241m.\u001b[39marange(\u001b[38;5;241m0\u001b[39m, \u001b[38;5;241m3\u001b[39m \u001b[38;5;241m*\u001b[39m np\u001b[38;5;241m.\u001b[39mpi, \u001b[38;5;241m0.1\u001b[39m)  \u001b[38;5;66;03m# grid points\u001b[39;00m\n\u001b[1;32m      6\u001b[0m y_sin \u001b[38;5;241m=\u001b[39m np\u001b[38;5;241m.\u001b[39msin(x)\n\u001b[1;32m      7\u001b[0m y_cos \u001b[38;5;241m=\u001b[39m np\u001b[38;5;241m.\u001b[39mcos(x)\n",
      "\u001b[0;31mNameError\u001b[0m: name 'np' is not defined"
     ]
    }
   ],
   "source": [
    "# Matplotlib\n",
    "\n",
    "import matplotlib.pyplot as plt\n",
    "\n",
    "x = np.arange(0, 3 * np.pi, 0.1)  # grid points\n",
    "y_sin = np.sin(x)\n",
    "y_cos = np.cos(x)\n",
    "\n",
    "plt.subplot(2, 1, 1)  # first subplot\n",
    "plt.plot(x, y_sin)\n",
    "plt.title('Sine')\n",
    "\n",
    "plt.subplot(2, 1, 2)  # second subplot\n",
    "plt.plot(x, y_cos)\n",
    "plt.title('Cosine')\n",
    "\n",
    "plt.show()            # display plots"
   ]
  },
  {
   "cell_type": "code",
   "execution_count": 5,
   "metadata": {},
   "outputs": [
    {
     "name": "stdout",
     "output_type": "stream",
     "text": [
      "tensor(-8.)\n",
      "tensor(6.)\n",
      "tensor(2.)\n",
      "None\n"
     ]
    }
   ],
   "source": [
    "import torch\n",
    "\n",
    "# Forward pass\n",
    "x = torch.tensor(3.0, requires_grad = True)\n",
    "y = torch.tensor(-4.0, requires_grad = True)\n",
    "z = torch.tensor(2.0, requires_grad = True)\n",
    "w = torch.tensor(-1.0, requires_grad = True)\n",
    "p = x * y # tensor ( -12. , grad_fn = < MulBackward0 >)\n",
    "q = max(z, w) # tensor (2. , grad_fn = < MaxBackward0 >)\n",
    "v = p + q # tensor ( -10. , grad_fn = < AddBackward0 >)\n",
    "f = 2 * v # tensor ( -20. , grad_fn = < MulBackward0 >)\n",
    "\n",
    "# Backward pass\n",
    "f.backward() # compute gradients\n",
    "print(x. grad) # tensor ( -8.)\n",
    "print(y. grad) # tensor (6.)\n",
    "print(z. grad) # tensor (2.)\n",
    "print(w. grad) # tensor (0.)\n",
    "\n"
   ]
  },
  {
   "cell_type": "code",
   "execution_count": 5,
   "metadata": {},
   "outputs": [
    {
     "name": "stdout",
     "output_type": "stream",
     "text": [
      "-20\n",
      "-8\n",
      "6\n",
      "2\n",
      "0\n"
     ]
    }
   ],
   "source": [
    "# Forward Pass\n",
    "x = 3 \n",
    "y = -4\n",
    "z = 2\n",
    "w = -1\n",
    "\n",
    "p= x * y\n",
    "q = max(z, w)\n",
    "v = p + q\n",
    "f = 2 * v \n",
    "print(f)\n",
    "\n",
    "# Backward pass\n",
    "dfdv = 2\n",
    "dvdp = 1\n",
    "dpdx = y\n",
    "dpdy = x\n",
    "dvdq = 1\n",
    "dqdz = (z > w)\n",
    "dqdw = (w > z)\n",
    "\n",
    "dfdx = dfdv * dvdp * dpdx # -8\n",
    "dfdy = dfdv * dvdp * dpdy # 6\n",
    "dfdz = dfdv * dvdq * dqdz # 2\n",
    "dfdw = dfdv * dvdq * dqdw # 0\n",
    "\n",
    "print(dfdx)\n",
    "print(dfdy)\n",
    "print(dfdz)\n",
    "print(dfdw)\n"
   ]
  },
  {
   "cell_type": "code",
   "execution_count": 4,
   "metadata": {},
   "outputs": [
    {
     "name": "stdout",
     "output_type": "stream",
     "text": [
      "True\n"
     ]
    }
   ],
   "source": [
    "z = 5\n",
    "y = 3\n",
    "print(z > w)"
   ]
  },
  {
   "cell_type": "code",
   "execution_count": 1,
   "metadata": {},
   "outputs": [
    {
     "ename": "NameError",
     "evalue": "name 'W1' is not defined",
     "output_type": "error",
     "traceback": [
      "\u001b[0;31m---------------------------------------------------------------------------\u001b[0m",
      "\u001b[0;31mNameError\u001b[0m                                 Traceback (most recent call last)",
      "Cell \u001b[0;32mIn[1], line 6\u001b[0m\n\u001b[1;32m      4\u001b[0m f \u001b[38;5;241m=\u001b[39m \u001b[38;5;28;01mlambda\u001b[39;00m x: \u001b[38;5;241m1.0\u001b[39m\u001b[38;5;241m/\u001b[39m(\u001b[38;5;241m1.0\u001b[39m \u001b[38;5;241m+\u001b[39m np\u001b[38;5;241m.\u001b[39mexp(\u001b[38;5;241m-\u001b[39mx)) \u001b[38;5;66;03m# sigmoid activation\u001b[39;00m\n\u001b[1;32m      5\u001b[0m x \u001b[38;5;241m=\u001b[39m np\u001b[38;5;241m.\u001b[39mrandom\u001b[38;5;241m.\u001b[39mrandn(\u001b[38;5;241m3\u001b[39m , \u001b[38;5;241m1\u001b[39m) \u001b[38;5;66;03m# random input vector (3 x 1)\u001b[39;00m\n\u001b[0;32m----> 6\u001b[0m h1 \u001b[38;5;241m=\u001b[39m f(np\u001b[38;5;241m.\u001b[39mdot(\u001b[43mW1\u001b[49m, x) \u001b[38;5;241m+\u001b[39m b1) \u001b[38;5;66;03m# first hidden layer activations (4 x 1)\u001b[39;00m\n\u001b[1;32m      7\u001b[0m h2 \u001b[38;5;241m=\u001b[39m f(np\u001b[38;5;241m.\u001b[39mdot(W2, h1) \u001b[38;5;241m+\u001b[39m b2) \u001b[38;5;66;03m# second hidden layer activations(4 x 1)\u001b[39;00m\n\u001b[1;32m      8\u001b[0m out \u001b[38;5;241m=\u001b[39m np\u001b[38;5;241m.\u001b[39mdot(W3, h2) \u001b[38;5;241m+\u001b[39m b3 \u001b[38;5;66;03m# output neuron (1 x 1)\u001b[39;00m\n",
      "\u001b[0;31mNameError\u001b[0m: name 'W1' is not defined"
     ]
    }
   ],
   "source": [
    "import numpy as np\n",
    "\n",
    "# Forward pass\n",
    "f = lambda x: 1.0/(1.0 + np.exp(-x)) # sigmoid activation\n",
    "x = np.random.randn(3 , 1) # random input vector (3 x 1)\n",
    "h1 = f(np.dot(W1, x) + b1) # first hidden layer activations (4 x 1)\n",
    "h2 = f(np.dot(W2, h1) + b2) # second hidden layer activations(4 x 1)\n",
    "out = np.dot(W3, h2) + b3 # output neuron (1 x 1)\n"
   ]
  },
  {
   "cell_type": "code",
   "execution_count": 22,
   "metadata": {},
   "outputs": [
    {
     "data": {
      "image/png": "[encoded data removed]",
      "text/plain": [
       "<Figure size 640x480 with 1 Axes>"
      ]
     },
     "metadata": {},
     "output_type": "display_data"
    }
   ],
   "source": [
    "# Generate spiral dataset\n",
    "\n",
    "import numpy as np\n",
    "import matplotlib.pyplot as plt\n",
    "\n",
    "N = 100 # number of points per class\n",
    "D = 2 # dimensionality\n",
    "K = 3 # number of classes\n",
    "X = np.zeros((N*K,D)) # data matrix (each row = single example)\n",
    "y = np.zeros(N*K, dtype='uint8') # class labels\n",
    "for j in range(K):\n",
    "  ix = range(N*j,N*(j+1))\n",
    "  r = np.linspace(0.0,1,N) # radius\n",
    "  t = np.linspace(j*4,(j+1)*4,N) + np.random.randn(N)*0.2 # theta\n",
    "  X[ix] = np.c_[r*np.sin(t), r*np.cos(t)]\n",
    "  y[ix] = j\n",
    "# Data Visualization to check for non-linearity:\n",
    "plt.scatter(X[:, 0], X[:, 1], c=y, s=40, cmap=plt.cm.Spectral)\n",
    "plt.show()"
   ]
  },
  {
   "cell_type": "code",
   "execution_count": 38,
   "metadata": {},
   "outputs": [],
   "source": [
    "import torch\n",
    "import torch.nn as nn\n",
    "import torch.optim as optim\n",
    "\n",
    "X_tensor=torch.tensor(X, dtype = torch.float32)\n",
    "y_tensor=torch.tensor(y, dtype = torch.long)\n",
    "\n",
    "class SimpleNN(nn.Module):\n",
    "    def __init__(self , D, h, K):\n",
    "        super(SimpleNN,self).__init__()\n",
    "        self.fc1 = nn.Linear (D, h)\n",
    "        self.relu = nn.ReLU ()\n",
    "        self.fc2 = nn.Linear (h, K)\n",
    "        \n",
    "    def forward (self , x):\n",
    "        x = self.fc1(x)\n",
    "        x = self.relu(x)\n",
    "        x = self.fc2(x)\n",
    "        return x"
   ]
  },
  {
   "cell_type": "code",
   "execution_count": 37,
   "metadata": {},
   "outputs": [
    {
     "ename": "NameError",
     "evalue": "name 'h' is not defined",
     "output_type": "error",
     "traceback": [
      "\u001b[0;31m---------------------------------------------------------------------------\u001b[0m",
      "\u001b[0;31mNameError\u001b[0m                                 Traceback (most recent call last)",
      "Cell \u001b[0;32mIn[37], line 2\u001b[0m\n\u001b[1;32m      1\u001b[0m \u001b[38;5;66;03m# Initialization\u001b[39;00m\n\u001b[0;32m----> 2\u001b[0m model \u001b[38;5;241m=\u001b[39m SimpleNN(D,\u001b[43mh\u001b[49m,K)\n\u001b[1;32m      3\u001b[0m criterion \u001b[38;5;241m=\u001b[39m nn\u001b[38;5;241m.\u001b[39mCrossEntropyLoss()\n\u001b[1;32m      4\u001b[0m optimizer \u001b[38;5;241m=\u001b[39m optim\u001b[38;5;241m.\u001b[39mSGD(model\u001b[38;5;241m.\u001b[39mparameters(), lr \u001b[38;5;241m=\u001b[39m\u001b[38;5;241m1e-0\u001b[39m,weight_decay \u001b[38;5;241m=\u001b[39m\u001b[38;5;241m1e-3\u001b[39m)\n",
      "\u001b[0;31mNameError\u001b[0m: name 'h' is not defined"
     ]
    }
   ],
   "source": [
    "# Initialization\n",
    "model = SimpleNN(D,h,K)\n",
    "criterion = nn.CrossEntropyLoss()\n",
    "optimizer = optim.SGD(model.parameters(), lr =1e-0,weight_decay =1e-3)\n",
    "\n",
    "# Training\n",
    "for epoch in range(num_epochs):\n",
    "    # Forward pass\n",
    "    scores = model(X_tensor)\n",
    "    loss = criterion(scores,y_tensor)\n",
    "    optimizer.zero_grad() # zero grad, clears all previously calculated derivatives by PyTorch. Otherwise, PyTorch will just sum them up together.\n",
    "\n",
    "# Backward pass\n",
    "    loss.backward()\n",
    "    optimizer.step()"
   ]
  },
  {
   "cell_type": "code",
   "execution_count": 5,
   "metadata": {},
   "outputs": [],
   "source": [
    "class Linear : # torch .nn. Linear\n",
    "    def __init__ (self,fan_in,fan_out,bias=True):\n",
    "        self.weight = torch.randn(( fan_in , fan_out), generator =g) # or Kaiming init\n",
    "        self.bias = torch.zeros(fan_out) if bias else None\n",
    "    def __call__ (self , x):\n",
    "        self.out = x@self.weight\n",
    "        if self . bias is not None:\n",
    "            self . out += self . bias\n",
    "        return self.out\n",
    "def parameters ( self ):\n",
    "    return [ self . weight ] + ([] if self . bias is None else [ self . bias ])\n",
    "\n",
    "class Tanh : # torch .nn. Tanh\n",
    "    def __call__ (self , x):\n",
    "        self .out = torch . tanh (x)\n",
    "        return self . out"
   ]
  },
  {
   "cell_type": "code",
   "execution_count": 7,
   "metadata": {},
   "outputs": [],
   "source": [
    "class BatchNorm1d : # torch .nn. BatchNorm1d\n",
    "    def __init__(self,dim,eps=1e-5, momentum=0.1):\n",
    "        self.eps = eps\n",
    "        self.momentum = momentum\n",
    "        self.training = True\n",
    "# Trained with backprop\n",
    "        self.gamma = torch.ones ( dim)\n",
    "        self.beta = torch.zeros ( dim)\n",
    "# Trained with running momentum update\n",
    "        self.running_mean = torch.zeros ( dim)\n",
    "        self.running_var = torch.ones ( dim)\n",
    "def parameters(self):\n",
    "    return[self.gamma,self.beta]"
   ]
  },
  {
   "cell_type": "code",
   "execution_count": 10,
   "metadata": {},
   "outputs": [],
   "source": [
    "class BatchNorm1d : # torch .nn. BatchNorm1d\n",
    "    def __call__(self,x):\n",
    "        if self.training:\n",
    "            xmean = x.mean (0, keepdim = True)\n",
    "            xvar = x.var (0, keepdim = True)\n",
    "        else :\n",
    "            xmean = self.running_mean\n",
    "            xvar = self.running_var\n",
    "        xhat = (x - xmean)/torch.sqrt(xvar+self.eps) # normalization\n",
    "        self.out = self.gamma*xhat+self.beta\n",
    "        if self.training:\n",
    "            with torch.no_grad ():\n",
    "                self.running_mean = (1 - self.momentum) * self.running_mean+self.momentum * xmean\n",
    "                self.running_var = (1 - self.momentum) * self.running_var +self.momentum * xvar\n",
    "        return self.out"
   ]
  },
  {
   "cell_type": "code",
   "execution_count": 1,
   "metadata": {},
   "outputs": [
    {
     "ename": "NameError",
     "evalue": "name 'torch' is not defined",
     "output_type": "error",
     "traceback": [
      "\u001b[0;31m---------------------------------------------------------------------------\u001b[0m",
      "\u001b[0;31mNameError\u001b[0m                                 Traceback (most recent call last)",
      "Cell \u001b[0;32mIn[1], line 3\u001b[0m\n\u001b[1;32m      1\u001b[0m \u001b[38;5;28;01mfor\u001b[39;00m i \u001b[38;5;129;01min\u001b[39;00m \u001b[38;5;28mrange\u001b[39m (\u001b[38;5;241m200000\u001b[39m) :\n\u001b[1;32m      2\u001b[0m     \u001b[38;5;66;03m# Forward pass\u001b[39;00m\n\u001b[0;32m----> 3\u001b[0m     ix \u001b[38;5;241m=\u001b[39m \u001b[43mtorch\u001b[49m\u001b[38;5;241m.\u001b[39mrandint(\u001b[38;5;241m0\u001b[39m,X\u001b[38;5;241m.\u001b[39mshape [\u001b[38;5;241m0\u001b[39m],(batch_size,)) \u001b[38;5;66;03m# minibatch\u001b[39;00m\n\u001b[1;32m      4\u001b[0m     emb \u001b[38;5;241m=\u001b[39m C[X[ix]]\n\u001b[1;32m      5\u001b[0m     x \u001b[38;5;241m=\u001b[39m emb\u001b[38;5;241m.\u001b[39mview(emb\u001b[38;5;241m.\u001b[39mshape[\u001b[38;5;241m0\u001b[39m],\u001b[38;5;241m-\u001b[39m\u001b[38;5;241m1\u001b[39m)\n",
      "\u001b[0;31mNameError\u001b[0m: name 'torch' is not defined"
     ]
    }
   ],
   "source": [
    "for i in range (200000) :\n",
    "    # Forward pass\n",
    "    ix = torch.randint(0,X.shape [0],(batch_size,)) # minibatch\n",
    "    emb = C[X[ix]]\n",
    "    x = emb.view(emb.shape[0],-1)\n",
    "    for layer in layers:\n",
    "        x = layer(x)\n",
    "    loss = F.cross_entropy(x,Y[ix])\n",
    "\n",
    "    # Backward pass\n",
    "    for layer in layers:\n",
    "        layer.out.retain_grad()\n",
    "    for p in parameters:\n",
    "        p.grad = None\n",
    "    loss.backward()\n",
    "    lr = 0.1 if i < 100000 else 0.01\n",
    "    for p in parameters :\n",
    "        p.data += -lr * p. grad"
   ]
  }
 ],
 "metadata": {
  "kernelspec": {
   "display_name": "Python 3",
   "language": "python",
   "name": "python3"
  },
  "language_info": {
   "codemirror_mode": {
    "name": "ipython",
    "version": 3
   },
   "file_extension": ".py",
   "mimetype": "text/x-python",
   "name": "python",
   "nbconvert_exporter": "python",
   "pygments_lexer": "ipython3",
   "version": "3.12.1"
  }
 },
 "nbformat": 4,
 "nbformat_minor": 2
}
